{
  "nbformat": 4,
  "nbformat_minor": 0,
  "metadata": {
    "colab": {
      "provenance": []
    },
    "kernelspec": {
      "name": "python3",
      "display_name": "Python 3"
    },
    "language_info": {
      "name": "python"
    }
  },
  "cells": [
    {
      "cell_type": "code",
      "execution_count": 1,
      "metadata": {
        "colab": {
          "base_uri": "https://localhost:8080/"
        },
        "id": "LosUWU-DvJjh",
        "outputId": "5630ab7c-105c-4f2d-a090-16c2615885ba"
      },
      "outputs": [
        {
          "output_type": "stream",
          "name": "stdout",
          "text": [
            "{'Area': 'Length * Height', 'Perimeter': '2 * (Length + Height)'}\n"
          ]
        }
      ],
      "source": [
        "import pandas as pd\n",
        "\n",
        "def compute_formulas(excel_file):\n",
        "    # Read the Excel file into a DataFrame\n",
        "    df = pd.read_excel(excel_file)\n",
        "\n",
        "    # Define the formulas for each target column\n",
        "    formulas = {\n",
        "        \"Area\": \"Length * Height\",\n",
        "        \"Perimeter\": \"2 * (Length + Height)\"\n",
        "    }\n",
        "\n",
        "    # Initialize an empty dictionary to store column and formula pairs\n",
        "    column_formulas = {}\n",
        "\n",
        "    # Loop through the formulas dictionary\n",
        "    for target_column, formula in formulas.items():\n",
        "        # Store the formula in the dictionary\n",
        "        column_formulas[target_column] = formula\n",
        "\n",
        "    return column_formulas\n",
        "\n",
        "# Provide the path to your Excel file\n",
        "excel_file_path = \"/content/Area.xlsx\"\n",
        "\n",
        "# Call the function and get the column-formula dictionary\n",
        "column_formula_dict = compute_formulas(excel_file_path)\n",
        "\n",
        "# Print the dictionary\n",
        "print(column_formula_dict)\n"
      ]
    }
  ]
}